{
 "cells": [
  {
   "cell_type": "code",
   "execution_count": null,
   "metadata": {},
   "outputs": [],
   "source": [
    "# O objetivo aqui vai ser arrumar os dados para backtest"
   ]
  },
  {
   "cell_type": "code",
   "execution_count": 5,
   "metadata": {},
   "outputs": [],
   "source": [
    "import pandas as pd\n",
    "import numpy as np\n",
    "# https://jupyter-notebook.readthedocs.io/en/stable/examples/Notebook/Working%20With%20Markdown%20Cells.html"
   ]
  },
  {
   "cell_type": "code",
   "execution_count": null,
   "metadata": {},
   "outputs": [],
   "source": [
    "# Algumas questões sobre markdown\n",
    "# https://tex.stackexchange.com/questions/130510/write-text-correctly-in-equations #\\mathrm and its friends\n",
    "# https://jupyter-notebook.readthedocs.io/en/stable/examples/Notebook/Working%20With%20Markdown%20Cells.html\n",
    "# https://www.ibm.com/support/knowledgecenter/en/SSGNPV_1.1.3/dsx/markd-jupyter.html"
   ]
  },
  {
   "cell_type": "markdown",
   "metadata": {},
   "source": [
    "The magic formula ranks companies based on two factors: return on capital and earnings yield.\n",
    "\n",
    "#### Return on Capital\n",
    "$\\textrm{ROC} = \\textrm{EBIT}/\\textrm{(Net Working Capital + Net Fixed Assets)}$\n",
    "\n",
    "$\\begin{split}\n",
    "\\textrm{Net Fixed Assets} & = \\textrm{Total Assets} \\\\\n",
    " & - \\textrm{Total Current Assets} \\\\\n",
    " & - \\textrm{Total Intangibles & Goodwill}\n",
    "\\end{split}$\n",
    "\n",
    "#### Earnings yield\n",
    "$\\textrm{Earnings Yield} = \\textrm{EBIT} / \\textrm{Enterprise Value}$\n",
    "\n",
    "$\\begin{split}\n",
    "\\textrm{Enterprise Value} & = \\textrm{Market Value of Equity} \\\\\n",
    " & + \\textrm{Net Interest-Bearing Debt}\n",
    "\\end{split}$"
   ]
  },
  {
   "cell_type": "code",
   "execution_count": 6,
   "metadata": {},
   "outputs": [],
   "source": [
    "def org_columns(df):\n",
    "    '''\n",
    "    Organiza os dataframes com fundamentos:\n",
    "        Renomeia columns\n",
    "        Seleciona apenas tickers de interesse\n",
    "    '''\n",
    "    tickers = df.columns.str.extract('(.*)$')[0]\n",
    "    df.columns = tickers\n",
    "    on = tickers[tickers.str.contains('.\\D3$')]\n",
    "    pn = tickers[tickers.str.contains('.\\D4$')]\n",
    "    sto_tick = pd.concat([on, pn], ignore_index=True)\n",
    "    df = df[sto_tick]\n",
    "    df = df[df.index.str.contains(\"Mar|Jun|Sep|Dec\")]\n",
    "    df.columns.name = \"ticker\"\n",
    "    return df"
   ]
  },
  {
   "cell_type": "code",
   "execution_count": 11,
   "metadata": {},
   "outputs": [],
   "source": [
    "# EBIT\n",
    "ebit_ati = pd.read_excel('../../data/economatica_1/ebit_mensal__ativas.xlsx',\n",
    "                            skiprows = [1,2],\n",
    "                            header=1,\n",
    "                            index_col = 0,\n",
    "                            na_values='-')\n",
    "ebit_can = pd.read_excel('../../data/economatica_1/ebit_mensal_canceladas.xlsx',\n",
    "                            skiprows = [1,2],\n",
    "                            header=1,\n",
    "                            index_col = 0,\n",
    "                            na_values='-')\n",
    "ebit_can.drop([\"Jan-86\", \"Feb-86\"], inplace=True)\n",
    "\n",
    "ebit = pd.concat([ebit_ati,ebit_can],axis=1,sort=False)\n",
    "ebit = org_columns(ebit)"
   ]
  },
  {
   "cell_type": "code",
   "execution_count": 12,
   "metadata": {},
   "outputs": [],
   "source": [
    "# Net Working Capital\n",
    "nwc_ati = pd.read_excel('../../data/economatica_1/working_capital_mensal_ativas.xlsx',\n",
    "                            skiprows = [1,2],\n",
    "                            header=1,\n",
    "                            index_col = 0,\n",
    "                            na_values='-')\n",
    "nwc_can = pd.read_excel('../../data/economatica_1/working_capital_mensal_canceladas.xlsx',\n",
    "                            skiprows = [1,2],\n",
    "                            header=1,\n",
    "                            index_col = 0,\n",
    "                            na_values='-')\n",
    "nwc_can.drop([\"Jan-86\", \"Feb-86\"], inplace=True)\n",
    "\n",
    "nwc = pd.concat([ebit_ati,ebit_can],axis=1,sort=False)\n",
    "nwc = org_columns(nwc)"
   ]
  },
  {
   "cell_type": "code",
   "execution_count": 26,
   "metadata": {},
   "outputs": [],
   "source": [
    "# Total Assets\n",
    "ta_ati = pd.read_excel('../../data/economatica_1/total_assets_mensal_ativas.xlsx',\n",
    "                            skiprows = [1,2],\n",
    "                            header=1,\n",
    "                            index_col = 0,\n",
    "                            na_values='-')\n",
    "ta_can = pd.read_excel('../../data/economatica_1/total_assets_mensal_canceladas.xlsx',\n",
    "                            skiprows = [1,2],\n",
    "                            header=1,\n",
    "                            index_col = 0,\n",
    "                            na_values='-')\n",
    "ta_can.drop([\"Jan-86\", \"Feb-86\"], inplace=True)\n",
    "\n",
    "ta = pd.concat([ta_ati,ta_can],axis=1,sort=False)\n",
    "ta = org_columns(ta)"
   ]
  },
  {
   "cell_type": "code",
   "execution_count": 47,
   "metadata": {},
   "outputs": [],
   "source": [
    "# Ativo Circulante\n",
    "ac_ati = pd.read_excel('../../data/economatica_1/ativo_circulante_mensal_ativas.xlsx',\n",
    "                            skiprows = [1,2],\n",
    "                            header=1,\n",
    "                            index_col = 0,\n",
    "                            na_values='-')\n",
    "ac_can = pd.read_excel('../../data/economatica_1/ativo_circulante_mensal_canceladas.xlsx',\n",
    "                            skiprows = [1,2],\n",
    "                            header=1,\n",
    "                            index_col = 0,\n",
    "                            na_values='-')\n",
    "ac_can.drop([\"Jan-86\", \"Feb-86\"], inplace=True)\n",
    "\n",
    "ac = pd.concat([ac_ati,ac_can],axis=1,sort=False)\n",
    "ac = org_columns(ac)"
   ]
  },
  {
   "cell_type": "code",
   "execution_count": 54,
   "metadata": {},
   "outputs": [],
   "source": [
    "# Passivo Circulante\n",
    "pc_ati = pd.read_excel('../../data/economatica_1/passivo_circulante_mensal_ativas.xlsx',\n",
    "                            skiprows = [1,2],\n",
    "                            header=1,\n",
    "                            index_col = 0,\n",
    "                            na_values='-')\n",
    "pc_can = pd.read_excel('../../data/economatica_1/passivo_circulante_mensal_canceladas.xlsx',\n",
    "                            skiprows = [1,2],\n",
    "                            header=1,\n",
    "                            index_col = 0,\n",
    "                            na_values='-')\n",
    "pc_can.drop([\"Jan-86\", \"Feb-86\"], inplace=True)\n",
    "\n",
    "pc = pd.concat([pc_ati,pc_can],axis=1,sort=False)\n",
    "pc = org_columns(pc)"
   ]
  },
  {
   "cell_type": "code",
   "execution_count": 68,
   "metadata": {},
   "outputs": [],
   "source": [
    "# Total Current Assets\n",
    "tca = ac - pc"
   ]
  },
  {
   "cell_type": "code",
   "execution_count": 59,
   "metadata": {},
   "outputs": [],
   "source": [
    "# Goodwill\n",
    "gw_ati = pd.read_excel('../../data/economatica_1/goodwill_mensal_ativas.xlsx',\n",
    "                            skiprows = [1,2],\n",
    "                            header=1,\n",
    "                            index_col = 0,\n",
    "                            na_values='-')\n",
    "gw_can = pd.read_excel('../../data/economatica_1/goodwill_mensal_canceladas.xlsx',\n",
    "                            skiprows = [1,2],\n",
    "                            header=1,\n",
    "                            index_col = 0,\n",
    "                            na_values='-')\n",
    "# pc_can.drop([\"Jan-86\", \"Feb-86\"], inplace=True)\n",
    "\n",
    "gw = pd.concat([gw_ati,gw_can],axis=1,sort=False)\n",
    "gw = org_columns(gw)"
   ]
  },
  {
   "cell_type": "code",
   "execution_count": 70,
   "metadata": {},
   "outputs": [],
   "source": [
    "# Net Fixed Assets\n",
    "nfa = ta - tca - gw"
   ]
  },
  {
   "cell_type": "code",
   "execution_count": 72,
   "metadata": {},
   "outputs": [],
   "source": [
    "# Return on Capital (ROC)\n",
    "roc = ebit / (nwc + nfa)"
   ]
  },
  {
   "cell_type": "code",
   "execution_count": 76,
   "metadata": {},
   "outputs": [],
   "source": [
    "# Market Value of Equity\n",
    "mve_ati = pd.read_excel('../../data/economatica_1/valor_mercado_mensal_ativas.xlsx',\n",
    "                            skiprows = [1,2],\n",
    "                            header=1,\n",
    "                            index_col = 0,\n",
    "                            na_values='-')\n",
    "mve_can = pd.read_excel('../../data/economatica_1/valor_mercado_mensal_canceladas.xlsx',\n",
    "                            skiprows = [1,2],\n",
    "                            header=1,\n",
    "                            index_col = 0,\n",
    "                            na_values='-')\n",
    "mve_can.drop([\"Jan-86\", \"Feb-86\"], inplace=True)\n",
    "\n",
    "mve = pd.concat([mve_ati,mve_can],axis=1,sort=False)\n",
    "mve = org_columns(mve)"
   ]
  },
  {
   "cell_type": "code",
   "execution_count": 79,
   "metadata": {},
   "outputs": [],
   "source": [
    "# Net Interest-Bearing Debt\n",
    "nibd_ati = pd.read_excel('../../data/economatica_1/net_debt_mensal_ativas.xlsx',\n",
    "                            skiprows = [1,2],\n",
    "                            header=1,\n",
    "                            index_col = 0,\n",
    "                            na_values='-')\n",
    "nibd_can = pd.read_excel('../../data/economatica_1/net_debt_mensal_canceladas.xlsx',\n",
    "                            skiprows = [1,2],\n",
    "                            header=1,\n",
    "                            index_col = 0,\n",
    "                            na_values='-')\n",
    "nibd_can.drop([\"Jan-86\", \"Feb-86\"], inplace=True)\n",
    "\n",
    "nibd = pd.concat([nibd_ati,nibd_can],axis=1,sort=False)\n",
    "nibd = org_columns(nibd)"
   ]
  },
  {
   "cell_type": "code",
   "execution_count": 86,
   "metadata": {},
   "outputs": [],
   "source": [
    "# Enterprise Level\n",
    "ev = mve + nibd"
   ]
  },
  {
   "cell_type": "code",
   "execution_count": 88,
   "metadata": {},
   "outputs": [],
   "source": [
    "# Earnings Yield\n",
    "ey = ebit/ev"
   ]
  }
 ],
 "metadata": {
  "kernelspec": {
   "display_name": "Python 3",
   "language": "python",
   "name": "python3"
  },
  "language_info": {
   "codemirror_mode": {
    "name": "ipython",
    "version": 3
   },
   "file_extension": ".py",
   "mimetype": "text/x-python",
   "name": "python",
   "nbconvert_exporter": "python",
   "pygments_lexer": "ipython3",
   "version": "3.7.1"
  }
 },
 "nbformat": 4,
 "nbformat_minor": 2
}

{
 "cells": [
  {
   "cell_type": "code",
   "execution_count": 247,
   "metadata": {},
   "outputs": [],
   "source": [
    "import pandas as pd\n",
    "import numpy as np\n",
    "import datetime as dt\n",
    "import matplotlib.pyplot as plt\n",
    "\n",
    "from pandas.tseries.offsets import CustomBusinessDay"
   ]
  },
  {
   "cell_type": "markdown",
   "metadata": {},
   "source": [
    "The magic formula ranks companies based on two factors: return on capital and earnings yield.\n",
    "\n",
    "#### Return on Capital\n",
    "$\\textrm{ROC} = \\textrm{EBIT}/\\textrm{(Net Working Capital + Net Fixed Assets)}$\n",
    "\n",
    "$\\begin{split}\n",
    "\\textrm{Net Fixed Assets} & = \\textrm{Total Assets} \\\\\n",
    " & - \\textrm{Total Current Assets} \\\\\n",
    " & - \\textrm{Total Intangibles & Goodwill}\n",
    "\\end{split}$\n",
    "\n",
    "#### Earnings yield\n",
    "$\\textrm{Earnings Yield} = \\textrm{EBIT} / \\textrm{Enterprise Value}$\n",
    "\n",
    "$\\begin{split}\n",
    "\\textrm{Enterprise Value} & = \\textrm{Market Value of Equity} \\\\\n",
    " & + \\textrm{Net Interest-Bearing Debt}\n",
    "\\end{split}$"
   ]
  },
  {
   "cell_type": "code",
   "execution_count": 58,
   "metadata": {},
   "outputs": [],
   "source": [
    "def org_columns(df):\n",
    "    '''\n",
    "    Organiza os dataframes, arruma nomes das colunas, remove linhas\n",
    "    e colunas que possuam apenas NAs\n",
    "    '''\n",
    "    tickers = df.columns.str.extract('(.*)$')[0]\n",
    "    df.columns = tickers\n",
    "    df[df.index.str.contains(\"Jan|Feb|Apr|May|Jul|Aug|Oct|Nov\")]=np.NaN\n",
    "    df = df.fillna(method='ffill', limit=2)\n",
    "    df.columns.name = \"ticker\"\n",
    "    return df"
   ]
  },
  {
   "cell_type": "code",
   "execution_count": 132,
   "metadata": {},
   "outputs": [],
   "source": [
    "# Volume Mensal (in thousands) - vm\n",
    "vm_ati = pd.read_excel('../../data/economatica_1/volume_mensal_ativas.xlsx',\n",
    "                            skiprows = [1,2],\n",
    "                            header=1,\n",
    "                            index_col = 0,\n",
    "                            na_values='-')\n",
    "vm_can = pd.read_excel('../../data/economatica_1/volume_mensal_canceladas.xlsx',\n",
    "                            skiprows = [1,2],\n",
    "                            header=1,\n",
    "                            index_col = 0,\n",
    "                            na_values='-')\n",
    "vm_ati.drop([\"Jan-86\", \"Feb-86\"], inplace=True)\n",
    "vm_can.drop([\"Jan-86\", \"Feb-86\"], inplace=True)\n",
    "vm = pd.concat([vm_ati,vm_can],axis=1,sort=False)\n",
    "vm.columns = vm.columns.str.extract('(.*)$')[0]\n",
    "vm.columns.name = \"ticker\"\n",
    "vm.drop([\"Oct-19\"], inplace=True)"
   ]
  },
  {
   "cell_type": "code",
   "execution_count": 60,
   "metadata": {},
   "outputs": [],
   "source": [
    "# EBIT\n",
    "ebit_ati = pd.read_excel('../../data/economatica_1/ebit_mensal__ativas.xlsx',\n",
    "                            skiprows = [1,2],\n",
    "                            header=1,\n",
    "                            index_col = 0,\n",
    "                            na_values='-')\n",
    "ebit_can = pd.read_excel('../../data/economatica_1/ebit_mensal_canceladas.xlsx',\n",
    "                            skiprows = [1,2],\n",
    "                            header=1,\n",
    "                            index_col = 0,\n",
    "                            na_values='-')\n",
    "ebit_can.drop([\"Jan-86\", \"Feb-86\"], inplace=True)\n",
    "ebit = pd.concat([ebit_ati,ebit_can],axis=1,sort=False)\n",
    "ebit = org_columns(ebit)"
   ]
  },
  {
   "cell_type": "code",
   "execution_count": 61,
   "metadata": {},
   "outputs": [],
   "source": [
    "# Net Working Capital - nwc\n",
    "nwc_ati = pd.read_excel('../../data/economatica_1/working_capital_mensal_ativas.xlsx',\n",
    "                            skiprows = [1,2],\n",
    "                            header=1,\n",
    "                            index_col = 0,\n",
    "                            na_values='-')\n",
    "nwc_can = pd.read_excel('../../data/economatica_1/working_capital_mensal_canceladas.xlsx',\n",
    "                            skiprows = [1,2],\n",
    "                            header=1,\n",
    "                            index_col = 0,\n",
    "                            na_values='-')\n",
    "nwc_can.drop([\"Jan-86\", \"Feb-86\"], inplace=True)\n",
    "nwc = pd.concat([ebit_ati,ebit_can],axis=1,sort=False)\n",
    "nwc = org_columns(nwc)"
   ]
  },
  {
   "cell_type": "code",
   "execution_count": 62,
   "metadata": {},
   "outputs": [],
   "source": [
    "# Total Assets - ta\n",
    "ta_ati = pd.read_excel('../../data/economatica_1/total_assets_mensal_ativas.xlsx',\n",
    "                            skiprows = [1,2],\n",
    "                            header=1,\n",
    "                            index_col = 0,\n",
    "                            na_values='-')\n",
    "ta_can = pd.read_excel('../../data/economatica_1/total_assets_mensal_canceladas.xlsx',\n",
    "                            skiprows = [1,2],\n",
    "                            header=1,\n",
    "                            index_col = 0,\n",
    "                            na_values='-')\n",
    "ta_can.drop([\"Jan-86\", \"Feb-86\"], inplace=True)\n",
    "ta = pd.concat([ta_ati,ta_can],axis=1,sort=False)\n",
    "ta = org_columns(ta)"
   ]
  },
  {
   "cell_type": "code",
   "execution_count": 72,
   "metadata": {},
   "outputs": [],
   "source": [
    "# Ativo Circulante - ac\n",
    "ac_ati = pd.read_excel('../../data/economatica_1/ativo_circulante_mensal_ativas.xlsx',\n",
    "                            skiprows = [1,2],\n",
    "                            header=1,\n",
    "                            index_col = 0,\n",
    "                            na_values='-')\n",
    "ac_can = pd.read_excel('../../data/economatica_1/ativo_circulante_mensal_canceladas.xlsx',\n",
    "                            skiprows = [1,2],\n",
    "                            header=1,\n",
    "                            index_col = 0,\n",
    "                            na_values='-')\n",
    "ac_can.drop([\"Jan-86\", \"Feb-86\"], inplace=True)\n",
    "ac = pd.concat([ac_ati,ac_can],axis=1,sort=False)\n",
    "ac = org_columns(ac)"
   ]
  },
  {
   "cell_type": "code",
   "execution_count": 74,
   "metadata": {},
   "outputs": [],
   "source": [
    "# Passivo Circulante - pc\n",
    "pc_ati = pd.read_excel('../../data/economatica_1/passivo_circulante_mensal_ativas.xlsx',\n",
    "                            skiprows = [1,2],\n",
    "                            header=1,\n",
    "                            index_col = 0,\n",
    "                            na_values='-')\n",
    "pc_can = pd.read_excel('../../data/economatica_1/passivo_circulante_mensal_canceladas.xlsx',\n",
    "                            skiprows = [1,2],\n",
    "                            header=1,\n",
    "                            index_col = 0,\n",
    "                            na_values='-')\n",
    "pc_can.drop([\"Jan-86\", \"Feb-86\"], inplace=True)\n",
    "pc = pd.concat([pc_ati,pc_can],axis=1,sort=False)\n",
    "pc = org_columns(pc)"
   ]
  },
  {
   "cell_type": "code",
   "execution_count": 76,
   "metadata": {},
   "outputs": [],
   "source": [
    "# Total Current Assets\n",
    "# tca = ac - pc\n",
    "tca = ac.sub(pc,fill_value=0)"
   ]
  },
  {
   "cell_type": "code",
   "execution_count": 82,
   "metadata": {},
   "outputs": [],
   "source": [
    "# Goodwill - gw\n",
    "gw_ati = pd.read_excel('../../data/economatica_1/goodwill_mensal_ativas.xlsx',\n",
    "                            skiprows = [1,2],\n",
    "                            header=1,\n",
    "                            index_col = 0,\n",
    "                            na_values='-')\n",
    "gw_can = pd.read_excel('../../data/economatica_1/goodwill_mensal_canceladas.xlsx',\n",
    "                            skiprows = [1,2],\n",
    "                            header=1,\n",
    "                            index_col = 0,\n",
    "                            na_values='-')\n",
    "gw_ati.drop([\"Jan-86\", \"Feb-86\"], inplace=True)\n",
    "gw = pd.concat([gw_ati,gw_can],axis=1,sort=False)\n",
    "gw = org_columns(gw)"
   ]
  },
  {
   "cell_type": "code",
   "execution_count": 86,
   "metadata": {},
   "outputs": [],
   "source": [
    "# Net Fixed Assets - nfa\n",
    "# nfa = ta - tca - gw\n",
    "nfa = ta.sub(tca, fill_value=0).sub(gw, fill_value=0).sub(tca, fill_value=0)"
   ]
  },
  {
   "cell_type": "code",
   "execution_count": 117,
   "metadata": {},
   "outputs": [],
   "source": [
    "# Market Value of Equity - mve\n",
    "# mve tem 404 rows enquanto normalmente as outras tem 4003, o que causa problema na hora de somar, para ver qual a diferença\n",
    "# mve.index.difference(nibd.index)\n",
    "# mve tem outubro de 2019 a mais\n",
    "mve_ati = pd.read_excel('../../data/economatica_1/valor_mercado_mensal_ativas.xlsx',\n",
    "                            skiprows = [1,2],\n",
    "                            header=1,\n",
    "                            index_col = 0,\n",
    "                            na_values='-')\n",
    "mve_can = pd.read_excel('../../data/economatica_1/valor_mercado_mensal_canceladas.xlsx',\n",
    "                            skiprows = [1,2],\n",
    "                            header=1,\n",
    "                            index_col = 0,\n",
    "                            na_values='-')\n",
    "mve_can.drop([\"Jan-86\", \"Feb-86\"], inplace=True)\n",
    "mve = pd.concat([mve_ati,mve_can],axis=1,sort=False)\n",
    "mve.drop([\"Oct-19\"], inplace=True)\n",
    "mve = org_columns(mve)"
   ]
  },
  {
   "cell_type": "code",
   "execution_count": 118,
   "metadata": {},
   "outputs": [],
   "source": [
    "# Net Interest-Bearing Debt - nibd\n",
    "nibd_ati = pd.read_excel('../../data/economatica_1/net_debt_mensal_ativas.xlsx',\n",
    "                            skiprows = [1,2],\n",
    "                            header=1,\n",
    "                            index_col = 0,\n",
    "                            na_values='-')\n",
    "nibd_can = pd.read_excel('../../data/economatica_1/net_debt_mensal_canceladas.xlsx',\n",
    "                            skiprows = [1,2],\n",
    "                            header=1,\n",
    "                            index_col = 0,\n",
    "                            na_values='-')\n",
    "nibd_can.drop([\"Jan-86\", \"Feb-86\"], inplace=True)\n",
    "\n",
    "nibd = pd.concat([nibd_ati,nibd_can],axis=1,sort=False)\n",
    "nibd = org_columns(nibd)"
   ]
  },
  {
   "cell_type": "code",
   "execution_count": 119,
   "metadata": {},
   "outputs": [],
   "source": [
    "# Enterprise Level - ev\n",
    "# ev = mve + nibd\n",
    "ev = mve.add(nibd, fill_value=0)"
   ]
  },
  {
   "cell_type": "code",
   "execution_count": 121,
   "metadata": {},
   "outputs": [],
   "source": [
    "# Return on Capital (ROC)\n",
    "# roc = ebit / (nwc + nfa)\n",
    "roc = ebit.div(nwc.add(nfa,fill_value=0),fill_value=0)"
   ]
  },
  {
   "cell_type": "code",
   "execution_count": 123,
   "metadata": {},
   "outputs": [],
   "source": [
    "# Earnings Yield\n",
    "ey = ebit.div(ev, fill_value=0)"
   ]
  },
  {
   "cell_type": "code",
   "execution_count": 18,
   "metadata": {},
   "outputs": [],
   "source": [
    "# PARTE 2\n",
    "# Abrir preços diário e transformar em fim de mes"
   ]
  },
  {
   "cell_type": "code",
   "execution_count": 125,
   "metadata": {},
   "outputs": [],
   "source": [
    "def infer_calendar(dates):\n",
    "    \"\"\"\n",
    "    Infer a calendar as pandas DateOffset from a list of dates.\n",
    "    Parameters\n",
    "    ----------\n",
    "    dates : array-like (1-dimensional) or pd.DatetimeIndex\n",
    "        The dates you want to build a calendar from\n",
    "    Returns\n",
    "    -------\n",
    "    calendar : pd.DateOffset (CustomBusinessDay)\n",
    "    \"\"\"\n",
    "    dates = pd.DatetimeIndex(dates)\n",
    "\n",
    "    traded_weekdays = []\n",
    "    holidays = []\n",
    "\n",
    "    days_of_the_week = ['Mon', 'Tue', 'Wed', 'Thu', 'Fri', 'Sat', 'Sun']\n",
    "    for day, day_str in enumerate(days_of_the_week):\n",
    "\n",
    "        weekday_mask = (dates.dayofweek == day)\n",
    "\n",
    "        # keep only days of the week that are present\n",
    "        if not weekday_mask.any():\n",
    "            continue\n",
    "        traded_weekdays.append(day_str)\n",
    "\n",
    "        # look for holidays\n",
    "        used_weekdays = dates[weekday_mask].normalize()\n",
    "        all_weekdays = pd.date_range(dates.min(), dates.max(),\n",
    "                                     freq=CustomBusinessDay(weekmask=day_str)\n",
    "                                     ).normalize()\n",
    "        _holidays = all_weekdays.difference(used_weekdays)\n",
    "        _holidays = [timestamp.date() for timestamp in _holidays]\n",
    "        holidays.extend(_holidays)\n",
    "\n",
    "    traded_weekdays = ' '.join(traded_weekdays)\n",
    "    return CustomBusinessDay(weekmask=traded_weekdays, holidays=holidays)"
   ]
  },
  {
   "cell_type": "code",
   "execution_count": 126,
   "metadata": {},
   "outputs": [],
   "source": [
    "# Carrega Closing Price Diário - cpd\n",
    "cpd_ati = pd.read_excel('../../data/economatica_1/fechamento_diario_ativas.xlsx',\n",
    "                            skiprows = [1,2],\n",
    "                            header=1,\n",
    "                            index_col = 0,\n",
    "                            na_values='-')\n",
    "cpd_can = pd.read_excel('../../data/economatica_1/fechamento_diario_canceladas.xlsx',\n",
    "                            skiprows = [1,2],\n",
    "                            header=1,\n",
    "                            index_col = 0,\n",
    "                            na_values='-')\n",
    "cpd = pd.concat([cpd_ati,cpd_can],axis=1,sort=False)\n",
    "cpd.columns = cpd.columns.str.extract('(.*)$')[0]\n",
    "cpd.columns.name = \"ticker\"\n",
    "cpd.dropna(how='all',inplace=True) # cpd possui muitas linhas com NaN\n",
    "cpd.dropna(axis=1, how='all',inplace=True) # cpd possui muitas colunas com NaN"
   ]
  },
  {
   "cell_type": "code",
   "execution_count": 127,
   "metadata": {},
   "outputs": [],
   "source": [
    "# Calcula Closing Price Mensal - cpm e em percentual cpm_pct\n",
    "dates = cpd.index\n",
    "calendar = infer_calendar(dates)\n",
    "cme_cal = pd.offsets.CustomBusinessMonthEnd(calendar = calendar.calendar)\n",
    "idm = pd.date_range(dates[0], dates[-1], freq=cme_cal)\n",
    "cpm = cpd.loc[idm]\n",
    "cpm.drop([cpm.index[0],cpm.index[1]], inplace=True)\n",
    "# cpm.drop[0] # não tem como dar drop estilo iloc\n",
    "cpm_pct = cpm.pct_change()"
   ]
  },
  {
   "cell_type": "code",
   "execution_count": 20,
   "metadata": {},
   "outputs": [],
   "source": [
    "# Agora já temos todas variáveis de interesse:\n",
    "# 1) ROC - roc\n",
    "# 2) EY - ey\n",
    "# 3) Volume Mensal - vm\n",
    "# 4) Preço Fechamento Mensal - cpm"
   ]
  },
  {
   "cell_type": "code",
   "execution_count": 21,
   "metadata": {},
   "outputs": [],
   "source": [
    "# Sobre o processo\n",
    "# - Elimina financeiras\n",
    "# Todo fim de mês:\n",
    "# \t- Elimina ações com volume mensal menor que 2 milhões\n",
    "# \t- Calcula ROIC e EY\n",
    "# \t- Rankeia, exclui negativos e soma os ranks de acordo com Magic Formula\n",
    "# \t- Escolhe 5 ações com melhor rankeamento"
   ]
  },
  {
   "cell_type": "code",
   "execution_count": 263,
   "metadata": {
    "scrolled": true
   },
   "outputs": [],
   "source": [
    "l = len(cpm)\n",
    "# start money\n",
    "sm = 1\n",
    "portfolio = pd.Series([])\n",
    "pf_idx = pd.Index([])\n",
    "rets = pd.Series(np.zeros(l), index=cpm.index)\n",
    "for i in range(0,l):\n",
    "    if len(pf_idx)==5:\n",
    "        portfolio = cpm_pct.iloc[i][pf_idx]\n",
    "        rets[i] = portfolio.sum()/5\n",
    "    vm_2000 = vm.iloc[i]\n",
    "    vm_2000 = vm_2000[vm_2000>2000]\n",
    "    idx = vm_2000.index\n",
    "    roc_2000 = roc.iloc[i][idx]\n",
    "    ey_2000 = ey.iloc[i][idx]\n",
    "    roc_rank = roc_2000.sort_values(ascending=False).rank(ascending=False)\n",
    "    ey_rank = ey_2000.sort_values(ascending=False).rank(ascending=False)\n",
    "    winners = (ey_rank + roc_rank).sort_values(ascending=True)\n",
    "    pf_idx = winners.head(5).index"
   ]
  },
  {
   "cell_type": "code",
   "execution_count": 258,
   "metadata": {},
   "outputs": [
    {
     "data": {
      "image/png": "[encoded data removed]",
      "text/plain": [
       "<Figure size 432x288 with 1 Axes>"
      ]
     },
     "metadata": {
      "needs_background": "light"
     },
     "output_type": "display_data"
    }
   ],
   "source": [
    "final = 1*(1+rets).cumprod()\n",
    "final.plot()\n",
    "plt.show()"
   ]
  },
  {
   "cell_type": "code",
   "execution_count": 282,
   "metadata": {},
   "outputs": [
    {
     "data": {
      "text/plain": [
       "0.26491799010654016"
      ]
     },
     "execution_count": 282,
     "metadata": {},
     "output_type": "execute_result"
    }
   ],
   "source": [
    "# Cálculo CAGR (Compound Anual Growth Rate)\n",
    "tot_gain = (final[-1]-final[0])/final[0]\n",
    "mon_gain = (1+tot_gain)**(1/l)-1\n",
    "cagr = (1+mon_gain)**12-1\n",
    "cagr"
   ]
  },
  {
   "cell_type": "code",
   "execution_count": 276,
   "metadata": {},
   "outputs": [
    {
     "data": {
      "text/plain": [
       "8"
      ]
     },
     "execution_count": 276,
     "metadata": {},
     "output_type": "execute_result"
    }
   ],
   "source": []
  },
  {
   "cell_type": "code",
   "execution_count": 274,
   "metadata": {},
   "outputs": [
    {
     "data": {
      "text/plain": [
       "2675.6683842275847"
      ]
     },
     "execution_count": 274,
     "metadata": {},
     "output_type": "execute_result"
    }
   ],
   "source": [
    "tot_gain"
   ]
  },
  {
   "cell_type": "code",
   "execution_count": null,
   "metadata": {},
   "outputs": [],
   "source": []
  }
 ],
 "metadata": {
  "kernelspec": {
   "display_name": "Python 3",
   "language": "python",
   "name": "python3"
  },
  "language_info": {
   "codemirror_mode": {
    "name": "ipython",
    "version": 3
   },
   "file_extension": ".py",
   "mimetype": "text/x-python",
   "name": "python",
   "nbconvert_exporter": "python",
   "pygments_lexer": "ipython3",
   "version": "3.7.1"
  }
 },
 "nbformat": 4,
 "nbformat_minor": 2
}
